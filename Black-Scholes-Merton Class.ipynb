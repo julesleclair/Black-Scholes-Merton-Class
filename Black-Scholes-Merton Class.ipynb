{
 "cells": [
  {
   "cell_type": "markdown",
   "metadata": {},
   "source": [
    "# Black-Scholes-Merton Class"
   ]
  },
  {
   "cell_type": "markdown",
   "metadata": {},
   "source": [
    "### Import standard packages:"
   ]
  },
  {
   "cell_type": "code",
   "execution_count": 25,
   "metadata": {},
   "outputs": [],
   "source": [
    "import pandas as pd\n",
    "import numpy as np\n",
    "\n",
    "\n",
    "import scipy.stats as stats # stats package\n",
    "import random # modul to set seed // random.seed(n)\n",
    "\n"
   ]
  },
  {
   "cell_type": "markdown",
   "metadata": {},
   "source": [
    "### Define the Black Schole Merton class."
   ]
  },
  {
   "cell_type": "code",
   "execution_count": 26,
   "metadata": {},
   "outputs": [],
   "source": [
    "class BSM(object):\n",
    "    \n",
    "    \n",
    "    '''\n",
    "    --------------------------------------------\n",
    "    Black-Scholes-Merton:\n",
    "    --------------------------------------------\n",
    "    \n",
    "    s: underlying asset price\n",
    "    k: strike price\n",
    "    t: Initial time(usually t=0)\n",
    "    T: Maturity\n",
    "    r: risk free rate\n",
    "    q: Dividend yield\n",
    "    vol: Volatility\n",
    "    '''\n",
    "    \n",
    "    def __init__(self,s,k,t,T,r,q,vol):\n",
    "        \n",
    "        self.s = s   #underlying asset price\n",
    "        self.k = k   #strike price\n",
    "        self.t = t    #Initial time (usually t = 0)\n",
    "        self.T = T  # Maturity\n",
    "        self.tau = self.T-self.t #time to maturity\n",
    "        self.r = r  #Risk free rate\n",
    "        self.q = q # Dividend yield\n",
    "        self.vol = vol #volatility\n",
    "        self.d1 = (np.log(self.s/self.k) + (self.r - self.q +0.5 * self.vol **2.0) * (self.tau)) / (self.vol*np.sqrt(self.tau))\n",
    "        self.d2 = self.d1 - self.vol*np.sqrt(self.tau)\n",
    "        \n",
    "\n",
    "    \n",
    "    def call(self):\n",
    "        '''return European call option price'''\n",
    "        return self.s * np.exp(-self.q * self.tau) * stats.norm.cdf(self.d1) - self.k * np.exp(-self.r*(self.tau)) * stats.norm.cdf(self.d2)\n",
    "    \n",
    "    def put(self):\n",
    "        '''return European put option price'''\n",
    "        return -self.s * np.exp(-self.q * self.tau) * stats.norm.cdf(-self.d1) + self.k * np.exp(-self.r*(self.tau)) * stats.norm.cdf(-self.d2)\n",
    "    \n",
    "    def delta(self,otype):\n",
    "        \n",
    "        if otype == ('call'):\n",
    "            print('Delta call is: ')\n",
    "            return np.exp(-self.q * self.tau) * stats.norm.cdf(self.d1)\n",
    "        \n",
    "        elif otype == ('put'):\n",
    "            print('Delta put is: ')\n",
    "            return np.exp(-self.q * self.tau) * (stats.norm.cdf(self.d1) - 1)\n",
    "        \n",
    "        else:\n",
    "            print('invalid')\n",
    "    \n",
    "    def gamma(self):\n",
    "        \n",
    "        return 1/(self.s* self.vol * np.sqrt(self.tau)) * stats.norm.pdf(self.d1) * np.exp(-self.q * self.tau)\n",
    "    \n",
    "    def vega(self):\n",
    "        \n",
    "        return self.s * stats.norm.pdf(self.d1) * np.sqrt(self.tau) * np.exp(-self.q * self.tau) \n",
    "    \n",
    "    def theta(self, otype):\n",
    "        \n",
    "        if otype == ('call'):\n",
    "            print('Theta call is: ')\n",
    "            return  (-1/(2*np.sqrt(self.tau)) * self.s * self.vol * stats.norm.pdf(self.d1) * np.exp(-self.q * self.tau) \n",
    "                     + self.q *self.s  * stats.norm.cdf(self.d1) * np.exp(-self.q * self.tau)\n",
    "                     - self.r * self.k * np.exp(-self.r * self.tau) * stats.norm.cdf(self.d2))\n",
    "        \n",
    "        \n",
    "        \n",
    "        elif otype == ('put'):\n",
    "            print('Theta put is: ')\n",
    "            return (-1/(2*np.sqrt(self.tau)) * self.s * self.vol * stats.norm.pdf(self.d1) * np.exp(-self.q * self.tau) \n",
    "                     - self.q *self.s  * stats.norm.cdf(-self.d1) * np.exp(-self.q * self.tau)\n",
    "                     + self.r * self.k * np.exp(-self.r * self.tau) * stats.norm.cdf(-self.d2))\n",
    "        \n",
    "        else:\n",
    "            print('invalid')\n",
    "    \n",
    "    \n",
    "    def rho(self, otype):\n",
    "        \n",
    "        if otype == ('call'):\n",
    "            print('Rho call is: ')\n",
    "            return self.k * self.tau * np.exp(-self.r*self.tau) * stats.norm.cdf(self.d2)\n",
    "        \n",
    "        elif otype == ('put'):\n",
    "            print('Rho put is: ')\n",
    "            return -self.k * self.tau * np.exp(-self.r*self.tau) * stats.norm.cdf(-self.d2)\n",
    "        \n",
    "        else:\n",
    "            print('invalid')\n",
    "\n",
    "    "
   ]
  },
  {
   "cell_type": "markdown",
   "metadata": {},
   "source": [
    "### Let's try it"
   ]
  },
  {
   "cell_type": "markdown",
   "metadata": {},
   "source": [
    "###### Call price:"
   ]
  },
  {
   "cell_type": "code",
   "execution_count": 27,
   "metadata": {},
   "outputs": [
    {
     "data": {
      "text/plain": [
       "6.804957708822144"
      ]
     },
     "execution_count": 27,
     "metadata": {},
     "output_type": "execute_result"
    }
   ],
   "source": [
    "BSM(s=100,k=100,t=0,T=1,r=0.05,q=0,vol=0.1).call()"
   ]
  },
  {
   "cell_type": "markdown",
   "metadata": {},
   "source": [
    "Put price:"
   ]
  },
  {
   "cell_type": "code",
   "execution_count": 28,
   "metadata": {},
   "outputs": [
    {
     "data": {
      "text/plain": [
       "1.92790015889355"
      ]
     },
     "execution_count": 28,
     "metadata": {},
     "output_type": "execute_result"
    }
   ],
   "source": [
    "BSM(s=100,k=100,t=0,T=1,r=0.05,q=0,vol=0.1).put()"
   ]
  },
  {
   "cell_type": "markdown",
   "metadata": {},
   "source": [
    "###### Delta call:"
   ]
  },
  {
   "cell_type": "code",
   "execution_count": 29,
   "metadata": {},
   "outputs": [
    {
     "name": "stdout",
     "output_type": "stream",
     "text": [
      "Delta call is: \n"
     ]
    },
    {
     "data": {
      "text/plain": [
       "0.7088403132116536"
      ]
     },
     "execution_count": 29,
     "metadata": {},
     "output_type": "execute_result"
    }
   ],
   "source": [
    "BSM(s=100,k=100,t=0,T=1,r=0.05,q=0,vol=0.1).delta('call')"
   ]
  },
  {
   "cell_type": "markdown",
   "metadata": {},
   "source": [
    "###### Delta put:"
   ]
  },
  {
   "cell_type": "code",
   "execution_count": 30,
   "metadata": {},
   "outputs": [
    {
     "name": "stdout",
     "output_type": "stream",
     "text": [
      "Delta put is: \n"
     ]
    },
    {
     "data": {
      "text/plain": [
       "-0.29115968678834636"
      ]
     },
     "execution_count": 30,
     "metadata": {},
     "output_type": "execute_result"
    }
   ],
   "source": [
    "BSM(s=100,k=100,t=0,T=1,r=0.05,q=0,vol=0.1).delta('put')"
   ]
  },
  {
   "cell_type": "markdown",
   "metadata": {},
   "source": [
    "###### Gamma:"
   ]
  },
  {
   "cell_type": "code",
   "execution_count": 31,
   "metadata": {},
   "outputs": [
    {
     "data": {
      "text/plain": [
       "0.0342943855019384"
      ]
     },
     "execution_count": 31,
     "metadata": {},
     "output_type": "execute_result"
    }
   ],
   "source": [
    "BSM(s=100,k=100,t=0,T=1,r=0.05,q=0,vol=0.1).gamma()"
   ]
  },
  {
   "cell_type": "markdown",
   "metadata": {},
   "source": [
    "###### Vega:"
   ]
  },
  {
   "cell_type": "code",
   "execution_count": 32,
   "metadata": {},
   "outputs": [
    {
     "data": {
      "text/plain": [
       "34.29438550193839"
      ]
     },
     "execution_count": 32,
     "metadata": {},
     "output_type": "execute_result"
    }
   ],
   "source": [
    "BSM(s=100,k=100,t=0,T=1,r=0.05,q=0,vol=0.1).vega()"
   ]
  },
  {
   "cell_type": "markdown",
   "metadata": {},
   "source": [
    "###### Rho call:"
   ]
  },
  {
   "cell_type": "code",
   "execution_count": 33,
   "metadata": {},
   "outputs": [
    {
     "name": "stdout",
     "output_type": "stream",
     "text": [
      "Rho call is: \n"
     ]
    },
    {
     "data": {
      "text/plain": [
       "64.07907361234322"
      ]
     },
     "execution_count": 33,
     "metadata": {},
     "output_type": "execute_result"
    }
   ],
   "source": [
    "BSM(s=100,k=100,t=0,T=1,r=0.05,q=0,vol=0.1).rho('call')"
   ]
  },
  {
   "cell_type": "markdown",
   "metadata": {},
   "source": [
    "###### Rho put:"
   ]
  },
  {
   "cell_type": "code",
   "execution_count": 34,
   "metadata": {},
   "outputs": [
    {
     "name": "stdout",
     "output_type": "stream",
     "text": [
      "Rho put is: \n"
     ]
    },
    {
     "data": {
      "text/plain": [
       "-31.043868837728187"
      ]
     },
     "execution_count": 34,
     "metadata": {},
     "output_type": "execute_result"
    }
   ],
   "source": [
    "BSM(s=100,k=100,t=0,T=1,r=0.05,q=0,vol=0.1).rho('put')"
   ]
  },
  {
   "cell_type": "markdown",
   "metadata": {},
   "source": [
    "###### Theta call:"
   ]
  },
  {
   "cell_type": "code",
   "execution_count": 36,
   "metadata": {},
   "outputs": [
    {
     "name": "stdout",
     "output_type": "stream",
     "text": [
      "Theta call is: \n"
     ]
    },
    {
     "data": {
      "text/plain": [
       "-4.918672955714081"
      ]
     },
     "execution_count": 36,
     "metadata": {},
     "output_type": "execute_result"
    }
   ],
   "source": [
    "BSM(s=100,k=100,t=0,T=1,r=0.05,q=0,vol=0.1).theta('call')"
   ]
  },
  {
   "cell_type": "markdown",
   "metadata": {},
   "source": [
    "###### Theta put:"
   ]
  },
  {
   "cell_type": "code",
   "execution_count": 37,
   "metadata": {},
   "outputs": [
    {
     "name": "stdout",
     "output_type": "stream",
     "text": [
      "Theta put is: \n"
     ]
    },
    {
     "data": {
      "text/plain": [
       "-0.1625258332105104"
      ]
     },
     "execution_count": 37,
     "metadata": {},
     "output_type": "execute_result"
    }
   ],
   "source": [
    "BSM(s=100,k=100,t=0,T=1,r=0.05,q=0,vol=0.1).theta('put')"
   ]
  },
  {
   "cell_type": "code",
   "execution_count": null,
   "metadata": {},
   "outputs": [],
   "source": []
  }
 ],
 "metadata": {
  "kernelspec": {
   "display_name": "Python 3",
   "language": "python",
   "name": "python3"
  },
  "language_info": {
   "codemirror_mode": {
    "name": "ipython",
    "version": 3
   },
   "file_extension": ".py",
   "mimetype": "text/x-python",
   "name": "python",
   "nbconvert_exporter": "python",
   "pygments_lexer": "ipython3",
   "version": "3.7.7"
  },
  "latex_envs": {
   "LaTeX_envs_menu_present": true,
   "autoclose": false,
   "autocomplete": true,
   "bibliofile": "biblio.bib",
   "cite_by": "apalike",
   "current_citInitial": 1,
   "eqLabelWithNumbers": true,
   "eqNumInitial": 1,
   "hotkeys": {
    "equation": "Ctrl-E",
    "itemize": "Ctrl-I"
   },
   "labels_anchors": false,
   "latex_user_defs": false,
   "report_style_numbering": false,
   "user_envs_cfg": false
  }
 },
 "nbformat": 4,
 "nbformat_minor": 2
}
